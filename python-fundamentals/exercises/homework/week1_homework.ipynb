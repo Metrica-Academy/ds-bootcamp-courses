{
 "cells": [
  {
   "cell_type": "markdown",
   "id": "title",
   "metadata": {},
   "source": [
    "# Week 1 Homework: Python Fundamentals Practice\n",
    "\n",
    "**Due:** Before next Tuesday's class  \n",
    "**Estimated Time:** 2-3 hours  \n",
    "**Topics:** Variables, Data Types, Strings, Lists, Dictionaries\n",
    "\n",
    "## 📋 Instructions\n",
    "Complete all exercises below. Write your code in the provided cells and test it thoroughly.\n",
    "\n",
    "---"
   ]
  },
  {
   "cell_type": "markdown",
   "id": "section1",
   "metadata": {},
   "source": [
    "## Exercise 1: Variables and Data Types (10 points)"
   ]
  },
  {
   "cell_type": "code",
   "execution_count": null,
   "id": "ex1",
   "metadata": {},
   "outputs": [],
   "source": [
    "# 1.1 Create variables of different types\n",
    "# Create variables for: your name, age, height (meters), and whether you like Python\n",
    "# Then print each variable with its type\n",
    "\n"
   ]
  },
  {
   "cell_type": "code",
   "execution_count": null,
   "id": "ex1b",
   "metadata": {},
   "outputs": [],
   "source": [
    "# 1.2 Type conversion practice\n",
    "# Given these string variables, convert and calculate\n",
    "str_num1 = \"42\"\n",
    "str_num2 = \"3.14\"\n",
    "str_num3 = \"10\"\n",
    "\n",
    "# Convert to appropriate numeric types and calculate:\n",
    "# - Sum of all three numbers\n",
    "# - Average of all three numbers\n",
    "# Display results with proper formatting\n",
    "\n"
   ]
  },
  {
   "cell_type": "markdown",
   "id": "section2",
   "metadata": {},
   "source": [
    "## Exercise 2: String Manipulation (15 points)"
   ]
  },
  {
   "cell_type": "code",
   "execution_count": null,
   "id": "ex2a",
   "metadata": {},
   "outputs": [],
   "source": [
    "# 2.1 Name formatter\n",
    "# Ask user for their first, middle, and last name\n",
    "# Display their name in these formats:\n",
    "# - Full name in title case\n",
    "# - Initials (e.g., \"J.D.S.\")\n",
    "# - Last name, First name format\n",
    "# - Username format (first letter + last name, lowercase)\n",
    "\n"
   ]
  },
  {
   "cell_type": "code",
   "execution_count": null,
   "id": "ex2b",
   "metadata": {},
   "outputs": [],
   "source": [
    "# 2.2 Text analysis\n",
    "text = \"Python programming is fun and Python is powerful and Python is versatile\"\n",
    "\n",
    "# Analyze this text and display:\n",
    "# - Total number of characters\n",
    "# - Number of words\n",
    "# - Number of times \"Python\" appears\n",
    "# - Longest word in the text\n",
    "# - Text with all instances of \"Python\" replaced with \"Programming\"\n",
    "\n"
   ]
  },
  {
   "cell_type": "markdown",
   "id": "section3",
   "metadata": {},
   "source": [
    "## Exercise 3: Lists and List Operations (20 points)"
   ]
  },
  {
   "cell_type": "code",
   "execution_count": null,
   "id": "ex3a",
   "metadata": {},
   "outputs": [],
   "source": [
    "# 3.1 Grade analyzer\n",
    "# Create a list of at least 10 test scores (you can make them up)\n",
    "grades = []  # Add your grades here\n",
    "\n",
    "# Calculate and display:\n",
    "# - Number of grades\n",
    "# - Highest grade\n",
    "# - Lowest grade\n",
    "# - Average grade\n",
    "# - Grades above average\n",
    "# - Grades sorted from highest to lowest\n",
    "\n"
   ]
  },
  {
   "cell_type": "code",
   "execution_count": null,
   "id": "ex3b",
   "metadata": {},
   "outputs": [],
   "source": [
    "# 3.2 Shopping list manager\n",
    "# Create an empty shopping list\n",
    "# Add at least 8 items to your list\n",
    "# Then:\n",
    "# - Display the list with numbers (1. Item1, 2. Item2, etc.)\n",
    "# - Remove 2 items you don't need\n",
    "# - Add 3 more items\n",
    "# - Sort the list alphabetically\n",
    "# - Display final list with total count\n",
    "\n"
   ]
  },
  {
   "cell_type": "code",
   "execution_count": null,
   "id": "ex3c",
   "metadata": {},
   "outputs": [],
   "source": [
    "# 3.3 List operations practice\n",
    "numbers = [15, 32, 8, 45, 23, 67, 12, 89, 34, 56]\n",
    "\n",
    "# Using list operations and slicing, find:\n",
    "# - First 3 numbers\n",
    "# - Last 3 numbers\n",
    "# - Every other number (1st, 3rd, 5th, etc.)\n",
    "# - Numbers in reverse order\n",
    "# - Middle portion (indices 3-7)\n",
    "# - All even numbers\n",
    "# - All numbers greater than 30\n",
    "\n"
   ]
  },
  {
   "cell_type": "markdown",
   "id": "section4",
   "metadata": {},
   "source": [
    "## Exercise 4: Dictionaries (25 points)"
   ]
  },
  {
   "cell_type": "code",
   "execution_count": null,
   "id": "ex4a",
   "metadata": {},
   "outputs": [],
   "source": [
    "# 4.1 Student database\n",
    "# Create a dictionary for at least 5 students\n",
    "# Each student should have: name, age, major, gpa, and year (freshman, sophomore, etc.)\n",
    "students = {\n",
    "    # Add your students here\n",
    "}\n",
    "\n",
    "# Display information for all students\n",
    "# Find and display:\n",
    "# - Student with highest GPA\n",
    "# - Average age of all students\n",
    "# - Students by major (group them)\n",
    "# - Students with GPA above 3.5\n",
    "\n"
   ]
  },
  {
   "cell_type": "code",
   "execution_count": null,
   "id": "ex4b",
   "metadata": {},
   "outputs": [],
   "source": [
    "# 4.2 Movie ratings database\n",
    "# Create a dictionary where keys are movie names and values are lists of ratings (1-10)\n",
    "movies = {\n",
    "    \"The Matrix\": [9, 8, 9, 7, 10, 8, 9],\n",
    "    \"Inception\": [10, 9, 8, 9, 9, 7, 8, 10],\n",
    "    # Add at least 3 more movies with ratings\n",
    "}\n",
    "\n",
    "# For each movie, calculate and display:\n",
    "# - Average rating\n",
    "# - Number of ratings\n",
    "# - Highest and lowest rating\n",
    "# Then find:\n",
    "# - Movie with highest average rating\n",
    "# - Movie with most ratings\n",
    "\n"
   ]
  },
  {
   "cell_type": "code",
   "execution_count": null,
   "id": "ex4c",
   "metadata": {},
   "outputs": [],
   "source": [
    "# 4.3 Nested dictionary practice\n",
    "# Create a company database with departments and employees\n",
    "company = {\n",
    "    \"Engineering\": {\n",
    "        \"employees\": [\"Alice\", \"Bob\", \"Charlie\"],\n",
    "        \"budget\": 500000,\n",
    "        \"projects\": [\"Web App\", \"Mobile App\"]\n",
    "    },\n",
    "    # Add at least 2 more departments\n",
    "}\n",
    "\n",
    "# Display:\n",
    "# - Total number of employees across all departments\n",
    "# - Department with highest budget\n",
    "# - All projects across all departments\n",
    "# - Average number of employees per department\n",
    "\n"
   ]
  },
  {
   "cell_type": "markdown",
   "id": "section5",
   "metadata": {},
   "source": [
    "## Exercise 5: Integration Challenge (30 points)\n",
    "\n",
    "Combine all concepts to solve a real-world problem."
   ]
  },
  {
   "cell_type": "code",
   "execution_count": null,
   "id": "ex5",
   "metadata": {},
   "outputs": [],
   "source": [
    "# 5.1 Library Management System\n",
    "# Create a simple library system that manages books and borrowers\n",
    "\n",
    "# Step 1: Create a books database\n",
    "# Each book should have: title, author, genre, pages, available (boolean)\n",
    "library_books = {\n",
    "    # Add at least 8 books here\n",
    "}\n",
    "\n",
    "# Step 2: Create a borrowers database\n",
    "# Each borrower should have: name, email, borrowed_books (list)\n",
    "borrowers = {\n",
    "    # Add at least 4 borrowers here\n",
    "}\n",
    "\n",
    "# Step 3: Implement the following features:\n",
    "\n",
    "# Display all available books\n",
    "print(\"=== Available Books ===\")\n",
    "# Your code here\n",
    "\n",
    "# Display books by genre\n",
    "print(\"\\n=== Books by Genre ===\")\n",
    "# Your code here\n",
    "\n",
    "# Find the longest book\n",
    "print(\"\\n=== Longest Book ===\")\n",
    "# Your code here\n",
    "\n",
    "# Display borrower information with their books\n",
    "print(\"\\n=== Borrower Information ===\")\n",
    "# Your code here\n",
    "\n",
    "# Create a waiting list for unavailable books\n",
    "waiting_lists = {}  # book_title: [list of borrower names]\n",
    "# Your code here\n",
    "\n",
    "# Generate library statistics\n",
    "print(\"\\n=== Library Statistics ===\")\n",
    "# - Total books\n",
    "# - Available vs borrowed books\n",
    "# - Most popular genre\n",
    "# - Average book length\n",
    "# - Borrower with most books\n",
    "# Your code here\n"
   ]
  },
  {
   "cell_type": "markdown",
   "id": "bonus",
   "metadata": {},
   "source": [
    "## 🌟 Bonus Challenges (Optional)\n",
    "\n",
    "Try these for extra practice:"
   ]
  },
  {
   "cell_type": "code",
   "execution_count": null,
   "id": "bonus1",
   "metadata": {},
   "outputs": [],
   "source": [
    "# Bonus 1: Password Generator\n",
    "# Create a function that generates a random password with:\n",
    "# - User-specified length\n",
    "# - Mix of letters, numbers, and symbols\n",
    "# - No repeated characters\n",
    "\n",
    "import random\n",
    "import string\n",
    "\n",
    "# Your code here\n"
   ]
  },
  {
   "cell_type": "code",
   "execution_count": null,
   "id": "bonus2",
   "metadata": {},
   "outputs": [],
   "source": [
    "# Bonus 2: Data Cleaner\n",
    "# Given this messy data, clean it up and analyze it\n",
    "messy_data = [\n",
    "    \"  ALICE, 25, Engineer  \",\n",
    "    \"bob,30,designer\",\n",
    "    \"  Charlie, 35,MANAGER \",\n",
    "    \"diana, 28,   developer\",\n",
    "    \"EVE,32,analyst  \"\n",
    "]\n",
    "\n",
    "# Clean the data and convert to a list of dictionaries\n",
    "# Each should have: name (title case), age (int), job (title case)\n",
    "# Then analyze: average age, job distribution, etc.\n",
    "\n",
    "# Your code here\n"
   ]
  },
  {
   "cell_type": "markdown",
   "id": "reflection",
   "metadata": {},
   "source": [
    "## 📝 Reflection Questions\n",
    "\n",
    "Answer these questions in the markdown cell below:\n",
    "\n",
    "1. Which exercise was most challenging for you and why?\n",
    "2. What Python concept are you most comfortable with now?\n",
    "3. What would you like more practice with?\n",
    "4. How do you plan to use Python in your data science journey?\n",
    "\n",
    "**Your Answers:**\n",
    "\n",
    "(Write your answers here)\n",
    "\n"
   ]
  },
  {
   "cell_type": "markdown",
   "id": "submission",
   "metadata": {},
   "source": [
    "## 📋 Submission Checklist\n",
    "\n",
    "Before submitting, ensure:\n",
    "- [ ] All code cells run without errors\n",
    "- [ ] Output is clearly displayed for each exercise\n",
    "- [ ] Code is well-commented and readable\n",
    "- [ ] Variable names are meaningful\n",
    "- [ ] You've tested edge cases where applicable\n",
    "- [ ] Reflection questions are answered\n",
    "\n",
    "**Estimated completion time:** 2-3 hours  \n",
    "**Good luck!** 🚀"
   ]
  }
 ],
 "metadata": {
  "kernelspec": {
   "display_name": "Python 3",
   "language": "python",
   "name": "python3"
  },
  "language_info": {
   "codemirror_mode": {
    "name": "ipython",
    "version": 3
   },
   "file_extension": ".py",
   "mimetype": "text/x-python",
   "name": "python",
   "nbconvert_exporter": "python",
   "pygments_lexer": "ipython3",
   "version": "3.9.0"
  }
 },
 "nbformat": 4,
 "nbformat_minor": 5
}
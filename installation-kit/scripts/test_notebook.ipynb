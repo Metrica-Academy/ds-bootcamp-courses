{
 "cells": [
  {
   "cell_type": "markdown",
   "metadata": {},
   "source": [
    "# 🧪 Data Science Bootcamp - Installation Test Notebook\n",
    "\n",
    "**Welcome!** This notebook will help you verify that everything is working correctly after installation.\n",
    "\n",
    "**Instructions:**\n",
    "1. Run each cell one by one using **Shift + Enter**\n",
    "2. Check that each cell runs without errors\n",
    "3. Verify that interactive widgets appear and work\n",
    "4. If everything works, you're ready for the bootcamp! 🎉\n",
    "\n",
    "---"
   ]
  },
  {
   "cell_type": "markdown",
   "metadata": {},
   "source": [
    "## 📦 Test 1: Core Data Science Libraries"
   ]
  },
  {
   "cell_type": "code",
   "execution_count": null,
   "metadata": {},
   "outputs": [],
   "source": [
    "# Test importing core libraries\n",
    "import pandas as pd\n",
    "import numpy as np\n",
    "import matplotlib.pyplot as plt\n",
    "import seaborn as sns\n",
    "import plotly.graph_objects as go\n",
    "from sklearn.linear_model import LinearRegression\n",
    "import scipy.stats as stats\n",
    "\n",
    "print(\"✅ All core libraries imported successfully!\")\n",
    "print(f\"📊 Pandas version: {pd.__version__}\")\n",
    "print(f\"🔢 NumPy version: {np.__version__}\")\n",
    "print(f\"📈 Matplotlib version: {plt.matplotlib.__version__}\")\n",
    "print(f\"🎨 Seaborn version: {sns.__version__}\")"
   ]
  },
  {
   "cell_type": "markdown",
   "metadata": {},
   "source": [
    "## 📊 Test 2: Basic Data Operations"
   ]
  },
  {
   "cell_type": "code",
   "execution_count": null,
   "metadata": {},
   "outputs": [],
   "source": [
    "# Create sample data\n",
    "data = {\n",
    "    'Name': ['Alice', 'Bob', 'Charlie', 'Diana', 'Eve'],\n",
    "    'Age': [25, 30, 35, 28, 32],\n",
    "    'Score': [85, 92, 78, 88, 95],\n",
    "    'City': ['New York', 'London', 'Tokyo', 'Paris', 'Sydney']\n",
    "}\n",
    "\n",
    "df = pd.DataFrame(data)\n",
    "print(\"✅ Sample dataset created successfully!\")\n",
    "print(\"\\n📋 Dataset preview:\")\n",
    "display(df)"
   ]
  },
  {
   "cell_type": "code",
   "execution_count": null,
   "metadata": {},
   "outputs": [],
   "source": [
    "# Basic data analysis\n",
    "print(\"📈 Basic Statistics:\")\n",
    "display(df.describe())\n",
    "\n",
    "print(\"\\n🔍 Data Info:\")\n",
    "print(f\"Dataset shape: {df.shape}\")\n",
    "print(f\"Average age: {df['Age'].mean():.1f}\")\n",
    "print(f\"Highest score: {df['Score'].max()}\")"
   ]
  },
  {
   "cell_type": "markdown",
   "metadata": {},
   "source": [
    "## 📈 Test 3: Data Visualization"
   ]
  },
  {
   "cell_type": "code",
   "execution_count": null,
   "metadata": {},
   "outputs": [],
   "source": [
    "# Test matplotlib\n",
    "plt.figure(figsize=(10, 4))\n",
    "\n",
    "plt.subplot(1, 2, 1)\n",
    "plt.bar(df['Name'], df['Age'], color='skyblue')\n",
    "plt.title('Ages by Person')\n",
    "plt.xlabel('Name')\n",
    "plt.ylabel('Age')\n",
    "plt.xticks(rotation=45)\n",
    "\n",
    "plt.subplot(1, 2, 2)\n",
    "plt.scatter(df['Age'], df['Score'], color='coral', s=100)\n",
    "plt.title('Age vs Score')\n",
    "plt.xlabel('Age')\n",
    "plt.ylabel('Score')\n",
    "\n",
    "plt.tight_layout()\n",
    "plt.show()\n",
    "\n",
    "print(\"✅ Matplotlib visualizations work!\")"
   ]
  },
  {
   "cell_type": "code",
   "execution_count": null,
   "metadata": {},
   "outputs": [],
   "source": [
    "# Test seaborn\n",
    "plt.figure(figsize=(8, 5))\n",
    "sns.set_style(\"whitegrid\")\n",
    "sns.barplot(data=df, x='Name', y='Score', palette='viridis')\n",
    "plt.title('Scores by Person (Seaborn Style)')\n",
    "plt.xticks(rotation=45)\n",
    "plt.show()\n",
    "\n",
    "print(\"✅ Seaborn visualizations work!\")"
   ]
  },
  {
   "cell_type": "code",
   "execution_count": null,
   "metadata": {},
   "outputs": [],
   "source": [
    "# Test plotly interactive chart\n",
    "fig = go.Figure()\n",
    "\n",
    "fig.add_trace(go.Scatter(\n",
    "    x=df['Age'],\n",
    "    y=df['Score'],\n",
    "    mode='markers+text',\n",
    "    text=df['Name'],\n",
    "    textposition='top center',\n",
    "    marker=dict(size=15, color='lightblue', line=dict(width=2, color='darkblue')),\n",
    "    name='Students'\n",
    "))\n",
    "\n",
    "fig.update_layout(\n",
    "    title='Interactive Age vs Score Chart',\n",
    "    xaxis_title='Age',\n",
    "    yaxis_title='Score',\n",
    "    hovermode='closest'\n",
    ")\n",
    "\n",
    "fig.show()\n",
    "print(\"✅ Plotly interactive visualizations work!\")"
   ]
  },
  {
   "cell_type": "markdown",
   "metadata": {},
   "source": [
    "## 🎮 Test 4: Interactive Widgets"
   ]
  },
  {
   "cell_type": "code",
   "execution_count": null,
   "metadata": {},
   "outputs": [],
   "source": [
    "# Test basic widgets\n",
    "import ipywidgets as widgets\n",
    "from IPython.display import display\n",
    "\n",
    "print(\"🎮 Testing Interactive Widgets:\")\n",
    "print(\"\\n1. Integer Slider:\")\n",
    "\n",
    "slider = widgets.IntSlider(\n",
    "    value=5,\n",
    "    min=0,\n",
    "    max=10,\n",
    "    step=1,\n",
    "    description='Value:',\n",
    "    style={'description_width': 'initial'}\n",
    ")\n",
    "\n",
    "display(slider)\n",
    "\n",
    "print(\"\\n👆 You should see a slider above. Try moving it!\")"
   ]
  },
  {
   "cell_type": "code",
   "execution_count": null,
   "metadata": {},
   "outputs": [],
   "source": [
    "# Test dropdown widget\n",
    "print(\"2. Dropdown Menu:\")\n",
    "\n",
    "dropdown = widgets.Dropdown(\n",
    "    options=['Alice', 'Bob', 'Charlie', 'Diana', 'Eve'],\n",
    "    value='Alice',\n",
    "    description='Student:',\n",
    "    style={'description_width': 'initial'}\n",
    ")\n",
    "\n",
    "display(dropdown)\n",
    "\n",
    "print(\"\\n👆 You should see a dropdown menu above. Try selecting different options!\")"
   ]
  },
  {
   "cell_type": "code",
   "execution_count": null,
   "metadata": {},
   "outputs": [],
   "source": [
    "# Test interactive function\n",
    "from ipywidgets import interact\n",
    "\n",
    "print(\"3. Interactive Function:\")\n",
    "\n",
    "def plot_data(student_name='Alice'):\n",
    "    \"\"\"Plot data for selected student\"\"\"\n",
    "    student_data = df[df['Name'] == student_name]\n",
    "    if not student_data.empty:\n",
    "        age = student_data['Age'].iloc[0]\n",
    "        score = student_data['Score'].iloc[0]\n",
    "        city = student_data['City'].iloc[0]\n",
    "        \n",
    "        print(f\"🎯 Selected Student: {student_name}\")\n",
    "        print(f\"📍 Age: {age} years old\")\n",
    "        print(f\"📊 Score: {score}/100\")\n",
    "        print(f\"🌍 City: {city}\")\n",
    "        \n",
    "        # Create a simple bar chart\n",
    "        plt.figure(figsize=(6, 4))\n",
    "        plt.bar(['Age', 'Score'], [age, score], color=['lightblue', 'lightcoral'])\n",
    "        plt.title(f'{student_name} - Profile')\n",
    "        plt.ylabel('Value')\n",
    "        plt.show()\n",
    "\n",
    "# Create interactive widget\n",
    "interact(plot_data, student_name=df['Name'].tolist())\n",
    "\n",
    "print(\"\\n👆 You should see an interactive dropdown that updates the chart when you change it!\")"
   ]
  },
  {
   "cell_type": "markdown",
   "metadata": {},
   "source": [
    "## 🤖 Test 5: Machine Learning"
   ]
  },
  {
   "cell_type": "code",
   "execution_count": null,
   "metadata": {},
   "outputs": [],
   "source": [
    "# Test basic machine learning\n",
    "from sklearn.linear_model import LinearRegression\n",
    "from sklearn.model_selection import train_test_split\n",
    "from sklearn.metrics import mean_squared_error\n",
    "\n",
    "# Create some sample data for ML\n",
    "np.random.seed(42)\n",
    "X = np.random.randn(100, 1) * 10\n",
    "y = 2 * X.flatten() + 1 + np.random.randn(100) * 2\n",
    "\n",
    "# Split data\n",
    "X_train, X_test, y_train, y_test = train_test_split(X, y, test_size=0.3, random_state=42)\n",
    "\n",
    "# Train model\n",
    "model = LinearRegression()\n",
    "model.fit(X_train, y_train)\n",
    "\n",
    "# Make predictions\n",
    "y_pred = model.predict(X_test)\n",
    "\n",
    "# Calculate metrics\n",
    "mse = mean_squared_error(y_test, y_pred)\n",
    "\n",
    "print(\"🤖 Machine Learning Test:\")\n",
    "print(f\"✅ Model trained successfully!\")\n",
    "print(f\"📊 Model coefficient: {model.coef_[0]:.2f}\")\n",
    "print(f\"📊 Model intercept: {model.intercept_:.2f}\")\n",
    "print(f\"📊 Mean Squared Error: {mse:.2f}\")\n",
    "\n",
    "# Visualize results\n",
    "plt.figure(figsize=(10, 4))\n",
    "\n",
    "plt.subplot(1, 2, 1)\n",
    "plt.scatter(X_train, y_train, alpha=0.6, label='Training data')\n",
    "plt.scatter(X_test, y_test, alpha=0.6, color='red', label='Test data')\n",
    "plt.xlabel('X')\n",
    "plt.ylabel('y')\n",
    "plt.legend()\n",
    "plt.title('Training vs Test Data')\n",
    "\n",
    "plt.subplot(1, 2, 2)\n",
    "plt.scatter(y_test, y_pred, alpha=0.6)\n",
    "plt.plot([y_test.min(), y_test.max()], [y_test.min(), y_test.max()], 'r--', lw=2)\n",
    "plt.xlabel('Actual')\n",
    "plt.ylabel('Predicted')\n",
    "plt.title('Actual vs Predicted')\n",
    "\n",
    "plt.tight_layout()\n",
    "plt.show()\n",
    "\n",
    "print(\"✅ Machine learning functionality works!\")"
   ]
  },
  {
   "cell_type": "markdown",
   "metadata": {},
   "source": [
    "## 🎉 Final Test Summary\n",
    "\n",
    "If you've made it this far and all cells ran successfully, congratulations! 🎊\n",
    "\n",
    "### ✅ What We Tested:\n",
    "- ✅ Core data science libraries (pandas, numpy, matplotlib, seaborn, plotly)\n",
    "- ✅ Data manipulation and analysis\n",
    "- ✅ Static and interactive visualizations\n",
    "- ✅ Interactive widgets in Jupyter\n",
    "- ✅ Basic machine learning with scikit-learn\n",
    "\n",
    "### 🚀 You're Ready For:\n",
    "- 📊 Data analysis with pandas and numpy\n",
    "- 📈 Creating beautiful visualizations\n",
    "- 🎮 Interactive data exploration\n",
    "- 🤖 Machine learning experiments\n",
    "- 🎯 The complete Data Science Bootcamp!\n",
    "\n",
    "---\n",
    "\n",
    "### 🎯 Next Steps:\n",
    "1. 📂 Navigate to your main bootcamp folder\n",
    "2. 📖 Open `intro-to-data-science.ipynb`\n",
    "3. 🚀 Begin your data science journey!\n",
    "\n",
    "### 💡 Quick Tips:\n",
    "- **Save your work often:** Ctrl+S (Windows/Linux) or Cmd+S (Mac)\n",
    "- **Run cells:** Shift+Enter\n",
    "- **Get help:** Press Tab for autocomplete, Shift+Tab for documentation\n",
    "- **Restart if needed:** Kernel → Restart & Clear Output\n",
    "\n",
    "**Happy coding! 🎉**"
   ]
  },
  {
   "cell_type": "markdown",
   "metadata": {},
   "source": [
    "---\n",
    "\n",
    "## 🆘 If Something Didn't Work\n",
    "\n",
    "Don't panic! Here's what to do:\n",
    "\n",
    "### 🔍 Common Issues:\n",
    "1. **Import errors:** Some packages might not be installed\n",
    "2. **Widget issues:** Widgets might not display properly\n",
    "3. **Plotting issues:** Charts might not appear\n",
    "\n",
    "### 🛠️ Solutions:\n",
    "1. **Check your environment:** Make sure you activated `ds-bootcamp` conda environment\n",
    "2. **Run the verification script:** `python verify_setup.py`\n",
    "3. **Reinstall packages:** Follow the installation guide again\n",
    "4. **Ask for help:** Contact your instructor with the error message\n",
    "\n",
    "### 📞 Getting Help:\n",
    "When asking for help, include:\n",
    "- Your operating system (Windows, Mac, Linux)\n",
    "- The exact error message\n",
    "- A screenshot of the problem\n",
    "- Which cell caused the issue\n",
    "\n",
    "**Remember:** Everyone encounters setup issues - you're not alone! 💪"
   ]
  }
 ],
 "metadata": {
  "kernelspec": {
   "display_name": "Python 3 (ipykernel)",
   "language": "python",
   "name": "python3"
  },
  "language_info": {
   "codemirror_mode": {
    "name": "ipython",
    "version": 3
   },
   "file_extension": ".py",
   "mimetype": "text/x-python",
   "name": "python",
   "nbconvert_exporter": "python",
   "pygments_lexer": "ipython3",
   "version": "3.9.18"
  },
  "widgets": {
   "application/vnd.jupyter.widget-state+json": {
    "state": {},
    "version_major": 2,
    "version_minor": 0
   }
  }
 },
 "nbformat": 4,
 "nbformat_minor": 4
}
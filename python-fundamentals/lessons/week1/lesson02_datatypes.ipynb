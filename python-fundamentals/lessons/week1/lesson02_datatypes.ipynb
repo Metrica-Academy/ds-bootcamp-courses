{
 "cells": [
  {
   "cell_type": "markdown",
   "id": "7518efc9-41e1-402b-b621-bd5de58d46b9",
   "metadata": {},
   "source": [
    "# Lesson 2: Data Types & Operations\n",
    "\n",
    "**Session:** Week 1, Thursday (2 hours)  \n",
    "**Learning Objectives:**\n",
    "- Understand different data types in Python\n",
    "- Work with strings and numbers\n",
    "- Convert between data types\n",
    "- Get user input\n",
    "- Use f-strings for formatting"
   ]
  },
  {
   "cell_type": "markdown",
   "id": "warmup",
   "metadata": {},
   "source": [
    "## 🔄 Quick Warmup\n",
    "Let's start by reviewing what we learned last session:"
   ]
  },
  {
   "cell_type": "code",
   "execution_count": null,
   "id": "warmup_code",
   "metadata": {},
   "outputs": [],
   "source": [
    "# Create variables and do some math\n",
    "my_age = 25\n",
    "years_to_add = 5\n",
    "future_age = my_age + years_to_add\n",
    "\n",
    "print(\"My current age:\", my_age)\n",
    "print(\"In 5 years I'll be:\", future_age)"
   ]
  },
  {
   "cell_type": "markdown",
   "id": "14e4fe00-4bdd-4398-87bc-8e506ca63e9b",
   "metadata": {},
   "source": [
    "## Python Data Types: Different Kinds of Information 📊\n",
    "\n",
    "### The Filing Cabinet Analogy 🗄️\n",
    "\n",
    "Think of data types as **different types of filing cabinets**:\n",
    "- **Number cabinet** 🔢: Stores quantities (age, price, temperature)\n",
    "- **Text cabinet** 📝: Stores words and sentences (names, addresses)\n",
    "- **True/False cabinet** ✅❌: Stores yes/no answers (enrolled?, premium member?)\n",
    "\n",
    "Each cabinet is organized differently and has different operations you can perform!"
   ]
  },
  {
   "cell_type": "markdown",
   "id": "c44994ed-6e9a-4b4d-8dae-d4e3d3d8f18f",
   "metadata": {},
   "source": [
    "### Main Python Data Types\n",
    "\n",
    "| Type | Description | Examples | Variable Example |\n",
    "|------|-------------|----------|------------------|\n",
    "| `str` | Text/String | \"Hello\", 'Python' | `name = \"Alice\"` |\n",
    "| `int` | Whole Numbers | 42, -10, 0 | `age = 25` |\n",
    "| `float` | Decimal Numbers | 3.14, -2.5 | `price = 19.99` |\n",
    "| `bool` | True/False | True, False | `is_student = True` |"
   ]
  },
  {
   "cell_type": "code",
   "execution_count": null,
   "id": "data_types_example",
   "metadata": {},
   "outputs": [],
   "source": [
    "# Examples of different data types\n",
    "student_name = \"Alice Johnson\"    # String (str)\n",
    "student_age = 20                 # Integer (int)\n",
    "student_gpa = 3.85              # Float (decimal)\n",
    "is_graduated = False            # Boolean (True/False)\n",
    "\n",
    "print(student_name)\n",
    "print(student_age)\n",
    "print(student_gpa)\n",
    "print(is_graduated)"
   ]
  },
  {
   "cell_type": "markdown",
   "id": "type_function",
   "metadata": {},
   "source": [
    "### Checking Data Types with `type()`\n",
    "You can ask Python \"what type is this?\" using the `type()` function:"
   ]
  },
  {
   "cell_type": "code",
   "execution_count": null,
   "id": "type_checking",
   "metadata": {},
   "outputs": [],
   "source": [
    "# Let's check the types\n",
    "print(type(\"Hello\"))      # String\n",
    "print(type(42))           # Integer  \n",
    "print(type(3.14))         # Float\n",
    "print(type(True))         # Boolean"
   ]
  },
  {
   "cell_type": "markdown",
   "id": "ac4ef112-4958-402b-95bb-deb538f81e50",
   "metadata": {},
   "source": [
    "## Working with Strings (Text) 📝"
   ]
  },
  {
   "cell_type": "markdown",
   "id": "4dbf4fe9-35d3-487a-bbde-941ad2022789",
   "metadata": {},
   "source": [
    "### Creating Strings\n",
    "Strings are text wrapped in quotes. You can use single or double quotes:"
   ]
  },
  {
   "cell_type": "code",
   "execution_count": null,
   "id": "string_creation",
   "metadata": {},
   "outputs": [],
   "source": [
    "# Different ways to create strings\n",
    "message1 = \"Hello World\"        # Double quotes\n",
    "message2 = 'Python is fun!'     # Single quotes\n",
    "message3 = \"I'm learning Python\" # Double quotes when you need apostrophe\n",
    "\n",
    "print(message1)\n",
    "print(message2)\n",
    "print(message3)"
   ]
  },
  {
   "cell_type": "markdown",
   "id": "string_operations",
   "metadata": {},
   "source": [
    "### String Operations: Manipulating Text\n",
    "Strings have many built-in \"methods\" (functions) to manipulate text:"
   ]
  },
  {
   "cell_type": "code",
   "execution_count": null,
   "id": "string_methods",
   "metadata": {},
   "outputs": [],
   "source": [
    "# String methods - like tools for text\n",
    "name = \"alice johnson\"\n",
    "\n",
    "print(\"Original:\", name)\n",
    "print(\"Uppercase:\", name.upper())\n",
    "print(\"Lowercase:\", name.lower())\n",
    "print(\"Title Case:\", name.title())\n",
    "print(\"Capitalized:\", name.capitalize())"
   ]
  },
  {
   "cell_type": "code",
   "execution_count": null,
   "id": "string_info",
   "metadata": {},
   "outputs": [],
   "source": [
    "# Getting information about strings\n",
    "message = \"Python Programming\"\n",
    "\n",
    "print(\"Length:\", len(message))           # How many characters?\n",
    "print(\"Starts with 'Py':\", message.startswith('Py'))\n",
    "print(\"Ends with 'ing':\", message.endswith('ing'))\n",
    "print(\"Contains 'gram':\", 'gram' in message)"
   ]
  },
  {
   "cell_type": "markdown",
   "id": "string_concatenation",
   "metadata": {},
   "source": [
    "### Combining Strings\n",
    "Like building with LEGO blocks, you can combine strings in different ways:"
   ]
  },
  {
   "cell_type": "code",
   "execution_count": null,
   "id": "concat_example",
   "metadata": {},
   "outputs": [],
   "source": [
    "# Different ways to combine strings\n",
    "first_name = \"John\"\n",
    "last_name = \"Doe\"\n",
    "\n",
    "# Method 1: Using + (concatenation)\n",
    "full_name = first_name + \" \" + last_name\n",
    "print(\"Method 1:\", full_name)\n",
    "\n",
    "# Method 2: Using commas in print\n",
    "print(\"Method 2:\", first_name, last_name)\n",
    "\n",
    "# Method 3: Using f-strings (modern way!)\n",
    "full_name_f = f\"{first_name} {last_name}\"\n",
    "print(\"Method 3:\", full_name_f)"
   ]
  },
  {
   "cell_type": "markdown",
   "id": "f_strings",
   "metadata": {},
   "source": [
    "### F-Strings: The Modern Way 🚀\n",
    "F-strings are like **templates** where you can insert variables:"
   ]
  },
  {
   "cell_type": "code",
   "execution_count": null,
   "id": "f_string_examples",
   "metadata": {},
   "outputs": [],
   "source": [
    "# F-strings make formatting easy!\n",
    "name = \"Alice\"\n",
    "age = 25\n",
    "gpa = 3.85\n",
    "\n",
    "# Old way (harder to read)\n",
    "message_old = \"Hi, I'm \" + name + \", I'm \" + str(age) + \" years old\"\n",
    "print(\"Old way:\", message_old)\n",
    "\n",
    "# F-string way (much cleaner!)\n",
    "message_new = f\"Hi, I'm {name}, I'm {age} years old with a {gpa} GPA\"\n",
    "print(\"F-string:\", message_new)\n",
    "\n",
    "# You can even do calculations inside f-strings!\n",
    "print(f\"Next year I'll be {age + 1} years old\")"
   ]
  },
  {
   "cell_type": "markdown",
   "id": "2420d998-8877-43f4-a8a1-c9707622ff9b",
   "metadata": {},
   "source": [
    "### 🏃‍♂️ Quick Practice: String Manipulation\n",
    "Try these string operations:"
   ]
  },
  {
   "cell_type": "code",
   "execution_count": null,
   "id": "string_practice",
   "metadata": {},
   "outputs": [],
   "source": [
    "# Practice with your own name\n",
    "your_name = \"your name here\"  # Replace with your actual name\n",
    "\n",
    "# 1. Print your name in all caps\n",
    "# 2. Print your name in title case\n",
    "# 3. Print the length of your name\n",
    "# 4. Create a greeting using an f-string\n",
    "\n"
   ]
  },
  {
   "cell_type": "markdown",
   "id": "numbers_section",
   "metadata": {},
   "source": [
    "## Working with Numbers 🔢"
   ]
  },
  {
   "cell_type": "markdown",
   "id": "int_vs_float",
   "metadata": {},
   "source": [
    "### Integers vs Floats\n",
    "- **Integers (`int`)**: Whole numbers like 5, -3, 100\n",
    "- **Floats (`float`)**: Decimal numbers like 3.14, -2.5, 0.0"
   ]
  },
  {
   "cell_type": "code",
   "execution_count": null,
   "id": "number_examples",
   "metadata": {},
   "outputs": [],
   "source": [
    "# Different types of numbers\n",
    "student_count = 25        # Integer\n",
    "average_grade = 87.5      # Float\n",
    "temperature = -5          # Negative integer\n",
    "pi = 3.14159             # Float\n",
    "\n",
    "print(f\"Students: {student_count} (type: {type(student_count)})\")\n",
    "print(f\"Average: {average_grade} (type: {type(average_grade)})\")\n",
    "print(f\"Temperature: {temperature}°C (type: {type(temperature)})\")\n",
    "print(f\"Pi: {pi} (type: {type(pi)})\")"
   ]
  },
  {
   "cell_type": "markdown",
   "id": "number_operations",
   "metadata": {},
   "source": [
    "### Advanced Number Operations"
   ]
  },
  {
   "cell_type": "code",
   "execution_count": null,
   "id": "advanced_math",
   "metadata": {},
   "outputs": [],
   "source": [
    "# Useful number operations\n",
    "import math\n",
    "\n",
    "number = -7.8\n",
    "\n",
    "print(f\"Original: {number}\")\n",
    "print(f\"Absolute value: {abs(number)}\")\n",
    "print(f\"Rounded: {round(number)}\")\n",
    "print(f\"Rounded to 1 decimal: {round(number, 1)}\")\n",
    "print(f\"Square root of 16: {math.sqrt(16)}\")\n",
    "print(f\"2 to the power of 8: {2 ** 8}\")"
   ]
  },
  {
   "cell_type": "markdown",
   "id": "type_conversion",
   "metadata": {},
   "source": [
    "## Type Conversion: Changing Data Types 🔄\n",
    "\n",
    "### The Shape-Shifter Analogy\n",
    "Sometimes you need to **transform** data from one type to another, like a shape-shifter!\n",
    "\n",
    "Common conversions:\n",
    "- `str()` - converts to string\n",
    "- `int()` - converts to integer \n",
    "- `float()` - converts to decimal\n",
    "- `bool()` - converts to True/False"
   ]
  },
  {
   "cell_type": "code",
   "execution_count": null,
   "id": "conversion_examples",
   "metadata": {},
   "outputs": [],
   "source": [
    "# Type conversion examples\n",
    "number_as_string = \"42\"\n",
    "decimal_as_string = \"3.14\"\n",
    "age = 25\n",
    "\n",
    "print(f\"Original: '{number_as_string}' (type: {type(number_as_string)})\")\n",
    "\n",
    "# Convert string to number\n",
    "number = int(number_as_string)\n",
    "decimal = float(decimal_as_string)\n",
    "age_as_string = str(age)\n",
    "\n",
    "print(f\"As integer: {number} (type: {type(number)})\")\n",
    "print(f\"As float: {decimal} (type: {type(decimal)})\")\n",
    "print(f\"Age as string: '{age_as_string}' (type: {type(age_as_string)})\")\n",
    "\n",
    "# Now we can do math!\n",
    "result = number + 8\n",
    "print(f\"Math result: {number} + 8 = {result}\")"
   ]
  },
  {
   "cell_type": "markdown",
   "id": "conversion_errors",
   "metadata": {},
   "source": [
    "### ⚠️ Conversion Errors\n",
    "Not all conversions work - Python will give you an error if it can't convert:"
   ]
  },
  {
   "cell_type": "code",
   "execution_count": null,
   "id": "conversion_error_demo",
   "metadata": {},
   "outputs": [],
   "source": [
    "# This will work\n",
    "good_number = int(\"123\")\n",
    "print(f\"Converted: {good_number}\")\n",
    "\n",
    "# This will cause an error - uncomment to see\n",
    "# bad_number = int(\"hello\")  # Can't convert \"hello\" to a number!"
   ]
  },
  {
   "cell_type": "markdown",
   "id": "user_input",
   "metadata": {},
   "source": [
    "## Getting User Input 🗣️\n",
    "\n",
    "### The `input()` Function\n",
    "The `input()` function lets you ask the user for information:"
   ]
  },
  {
   "cell_type": "code",
   "execution_count": null,
   "id": "input_example1",
   "metadata": {},
   "outputs": [],
   "source": [
    "# Getting text input\n",
    "name = input(\"What's your name? \")\n",
    "print(f\"Hello, {name}! Nice to meet you.\")"
   ]
  },
  {
   "cell_type": "markdown",
   "id": "input_numbers",
   "metadata": {},
   "source": [
    "### ⚠️ Important: Input is Always a String!\n",
    "The `input()` function always returns a **string**, even if the user types numbers:"
   ]
  },
  {
   "cell_type": "code",
   "execution_count": null,
   "id": "input_string_demo",
   "metadata": {},
   "outputs": [],
   "source": [
    "# Getting number input (the wrong way)\n",
    "age_input = input(\"How old are you? \")\n",
    "print(f\"You entered: '{age_input}' (type: {type(age_input)})\")\n",
    "\n",
    "# Convert to number for math\n",
    "age = int(age_input)\n",
    "next_year_age = age + 1\n",
    "print(f\"Next year you'll be {next_year_age} years old!\")"
   ]
  },
  {
   "cell_type": "code",
   "execution_count": null,
   "id": "input_clean_way",
   "metadata": {},
   "outputs": [],
   "source": [
    "# Getting number input (the clean way)\n",
    "age = int(input(\"How old are you? \"))\n",
    "height = float(input(\"How tall are you in meters? \"))\n",
    "\n",
    "print(f\"In 10 years, you'll be {age + 10} years old and still {height}m tall!\")"
   ]
  },
  {
   "cell_type": "markdown",
   "id": "live_coding",
   "metadata": {},
   "source": [
    "### 🏗️ Live Coding: Interactive Name Formatter\n",
    "Let's build a program together that asks for names and formats them nicely:"
   ]
  },
  {
   "cell_type": "code",
   "execution_count": null,
   "id": "name_formatter",
   "metadata": {},
   "outputs": [],
   "source": [
    "# Interactive name formatter\n",
    "print(\"=== Name Formatter ===\")\n",
    "\n",
    "# Get user input\n",
    "first_name = input(\"Enter your first name: \").strip()\n",
    "last_name = input(\"Enter your last name: \").strip()\n",
    "age = int(input(\"Enter your age: \"))\n",
    "\n",
    "# Format and display\n",
    "full_name = f\"{first_name.title()} {last_name.title()}\"\n",
    "print(f\"\\n📛 Formatted Name: {full_name}\")\n",
    "print(f\"📊 Length: {len(full_name)} characters\")\n",
    "print(f\"🎂 Age: {age} years old\")\n",
    "print(f\"🚀 In 2030, you'll be approximately {age + (2030 - 2024)} years old\")"
   ]
  },
  {
   "cell_type": "markdown",
   "id": "exercise_bmi",
   "metadata": {},
   "source": [
    "## 🎯 In-Class Exercise: BMI Calculator (20 minutes)\n",
    "\n",
    "Build a BMI (Body Mass Index) calculator that:\n",
    "1. Asks user for their name, weight (kg), and height (meters)\n",
    "2. Calculates BMI using: BMI = weight / (height²)\n",
    "3. Displays a nicely formatted result\n",
    "\n",
    "**Bonus:** Add some interpretation (BMI < 18.5 is underweight, 18.5-24.9 is normal, etc.)"
   ]
  },
  {
   "cell_type": "code",
   "execution_count": null,
   "id": "bmi_calculator",
   "metadata": {},
   "outputs": [],
   "source": [
    "# BMI Calculator - Build this together!\n",
    "print(\"=== BMI Calculator ===\")\n",
    "\n",
    "# Your code here:\n",
    "# 1. Get user's name, weight, and height\n",
    "# 2. Calculate BMI\n",
    "# 3. Display formatted result\n",
    "\n"
   ]
  },
  {
   "cell_type": "markdown",
   "id": "boolean_intro",
   "metadata": {},
   "source": [
    "## Boolean Values: True or False 🚦\n",
    "\n",
    "Boolean values represent **yes/no** or **true/false** situations:"
   ]
  },
  {
   "cell_type": "code",
   "execution_count": null,
   "id": "boolean_examples",
   "metadata": {},
   "outputs": [],
   "source": [
    "# Boolean examples\n",
    "is_student = True\n",
    "has_graduated = False\n",
    "is_raining = False\n",
    "\n",
    "print(f\"Is student: {is_student}\")\n",
    "print(f\"Has graduated: {has_graduated}\")\n",
    "print(f\"Is raining: {is_raining}\")\n",
    "\n",
    "# Booleans from comparisons\n",
    "age = 20\n",
    "is_adult = age >= 18\n",
    "print(f\"Is adult (age >= 18): {is_adult}\")"
   ]
  },
  {
   "cell_type": "markdown",
   "id": "string_formatting",
   "metadata": {},
   "source": [
    "## Advanced String Formatting 🎨"
   ]
  },
  {
   "cell_type": "code",
   "execution_count": null,
   "id": "advanced_formatting",
   "metadata": {},
   "outputs": [],
   "source": [
    "# Advanced f-string formatting\n",
    "name = \"Alice\"\n",
    "score = 87.6666\n",
    "price = 19.99\n",
    "\n",
    "# Number formatting\n",
    "print(f\"Score rounded to 2 decimals: {score:.2f}\")\n",
    "print(f\"Price: ${price:.2f}\")\n",
    "print(f\"Percentage: {score:.1f}%\")\n",
    "\n",
    "# String alignment\n",
    "print(f\"Name (right-aligned): '{name:>15}'\")\n",
    "print(f\"Name (centered): '{name:^15}'\")\n",
    "print(f\"Name (left-aligned): '{name:<15}'\")"
   ]
  },
  {
   "cell_type": "markdown",
   "id": "common_errors",
   "metadata": {},
   "source": [
    "## 🐛 Common Errors & How to Fix Them"
   ]
  },
  {
   "cell_type": "code",
   "execution_count": null,
   "id": "error_examples",
   "metadata": {},
   "outputs": [],
   "source": [
    "# Common error 1: Mixing strings and numbers\n",
    "age = 25\n",
    "# This will cause an error:\n",
    "# message = \"I am \" + age + \" years old\"  # Can't add string and number!\n",
    "\n",
    "# Fix: Use f-strings or convert to string\n",
    "message = f\"I am {age} years old\"  # Good!\n",
    "# OR: message = \"I am \" + str(age) + \" years old\"  # Also good!\n",
    "print(message)"
   ]
  },
  {
   "cell_type": "code",
   "execution_count": null,
   "id": "error_examples2",
   "metadata": {},
   "outputs": [],
   "source": [
    "# Common error 2: Converting invalid strings to numbers\n",
    "# This will cause an error:\n",
    "# number = int(\"hello\")  # Can't convert \"hello\" to integer!\n",
    "\n",
    "# Always make sure the string looks like a number\n",
    "valid_number = int(\"123\")  # This works!\n",
    "print(f\"Converted: {valid_number}\")"
   ]
  },
  {
   "cell_type": "markdown",
   "id": "practice_section",
   "metadata": {},
   "source": [
    "## 🎯 Practice Time\n",
    "Try these exercises:"
   ]
  },
  {
   "cell_type": "code",
   "execution_count": null,
   "id": "practice_1",
   "metadata": {},
   "outputs": [],
   "source": [
    "# Exercise 1: Personal Info Formatter\n",
    "# Ask for: name, age, favorite color, favorite number\n",
    "# Display in a nice format with f-strings\n",
    "\n"
   ]
  },
  {
   "cell_type": "code",
   "execution_count": null,
   "id": "practice_2",
   "metadata": {},
   "outputs": [],
   "source": [
    "# Exercise 2: Temperature Converter\n",
    "# Ask for temperature in Celsius\n",
    "# Convert to Fahrenheit using: F = (C * 9/5) + 32\n",
    "# Display both temperatures nicely formatted\n",
    "\n"
   ]
  },
  {
   "cell_type": "markdown",
   "id": "summary_section",
   "metadata": {},
   "source": [
    "## 📚 Session Summary\n",
    "\n",
    "Today you learned:\n",
    "- ✅ Different data types: strings, integers, floats, booleans\n",
    "- ✅ String operations and methods\n",
    "- ✅ F-strings for formatting\n",
    "- ✅ Type conversion between data types\n",
    "- ✅ Getting user input with `input()`\n",
    "- ✅ Common errors and how to avoid them\n",
    "\n",
    "### 🔑 Key Concepts to Remember\n",
    "1. **Strings** are text in quotes: `\"Hello\"`\n",
    "2. **F-strings** are the modern way to format: `f\"Hello {name}\"`\n",
    "3. **Input is always a string** - convert with `int()`, `float()` for math\n",
    "4. **Type checking** with `type()` helps debug\n",
    "\n",
    "### 🏠 Homework Preview\n",
    "Your homework will include:\n",
    "1. String manipulation challenges\n",
    "2. Building interactive programs with input\n",
    "3. Type conversion practice\n",
    "4. Creating a personal profile program\n",
    "\n",
    "### 🚀 Next Session Preview\n",
    "Saturday we'll learn about **Lists** - how to store and organize multiple pieces of data together!"
   ]
  },
  {
   "cell_type": "markdown",
   "id": "final_challenge",
   "metadata": {},
   "source": [
    "## 🎯 Final Challenge\n",
    "Before you leave, create a program that asks for someone's first name, last name, and birth year, then tells them:\n",
    "1. Their full name in title case\n",
    "2. How old they are (approximately)\n",
    "3. What year they'll turn 100"
   ]
  },
  {
   "cell_type": "code",
   "execution_count": null,
   "id": "final_challenge_code",
   "metadata": {},
   "outputs": [],
   "source": [
    "# Final challenge - Age calculator\n",
    "\n"
   ]
  }
 ],
 "metadata": {
  "kernelspec": {
   "display_name": "Python 3",
   "language": "python",
   "name": "python3"
  },
  "language_info": {
   "codemirror_mode": {
    "name": "ipython",
    "version": 3
   },
   "file_extension": ".py",
   "mimetype": "text/x-python",
   "name": "python",
   "nbconvert_exporter": "python",
   "pygments_lexer": "ipython3",
   "version": "3.9.0"
  }
 },
 "nbformat": 4,
 "nbformat_minor": 5
}
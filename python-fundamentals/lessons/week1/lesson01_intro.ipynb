{
 "cells": [
  {
   "cell_type": "markdown",
   "id": "7518efc9-41e1-402b-b621-bd5de58d46b9",
   "metadata": {},
   "source": [
    "# Lesson 1: Introduction to Python Programming\n",
    "\n",
    "**Session:** Week 1, Tuesday (2 hours)  \n",
    "**Learning Objectives:**\n",
    "- Understand what programming is and why we use Python\n",
    "- Set up development environment\n",
    "- Write your first Python programs\n",
    "- Use variables and basic operations\n",
    "- Debug simple errors"
   ]
  },
  {
   "cell_type": "markdown",
   "id": "14e4fe00-4bdd-4398-87bc-8e506ca63e9b",
   "metadata": {},
   "source": [
    "## What is Programming? 🤔\n",
    "\n",
    "**Programming** is the process of giving computers a set of instructions to perform a specific task. \n",
    "\n",
    "### The Chef Analogy 👨‍🍳\n",
    "\n",
    "Think of a computer as a **very obedient chef**. This chef can cook anything you want but needs a **very specific recipe**. Programming is like writing that detailed recipe for the computer-chef to follow. \n",
    "\n",
    "- If you miss an ingredient or a step in the recipe, the dish might not come out as expected\n",
    "- Similarly, if there's a mistake in the programming code, the computer might not behave the way you intend\n",
    "\n",
    "### The LEGO Analogy 🧱\n",
    "\n",
    "Imagine you're building a LEGO castle. Each LEGO piece represents a **line of code**. By connecting them in a specific sequence, you create a structure (a program). If a piece is out of place or missing, the castle might not look or function as you'd hope."
   ]
  },
  {
   "cell_type": "markdown",
   "id": "c44994ed-6e9a-4b4d-8dae-d4e3d3d8f18f",
   "metadata": {},
   "source": [
    "### 🤔 Think About It\n",
    "1. What is the main purpose of programming in relation to computers?\n",
    "2. Using our chef analogy, what might happen if a step in the recipe is missed?\n",
    "3. How are individual lines of code like LEGO pieces in building a program?"
   ]
  },
  {
   "cell_type": "markdown",
   "id": "a118cfa1-6bbd-4a2b-a941-fd2e92eb45ab",
   "metadata": {},
   "source": [
    "## Why Python? 🐍\n",
    "\n",
    "Python is a widely used, high-level programming language created by Guido van Rossum in 1991.\n",
    "\n",
    "### Why Learn Python?\n",
    "- **🎯 Versatility:** Used in web development, data science, AI, automation, and more\n",
    "- **📖 Readability:** Clear syntax that reads almost like English\n",
    "- **🌍 Community:** Huge community with extensive libraries and support\n",
    "- **💼 Career Opportunities:** High demand in data science and tech jobs\n",
    "\n",
    "### The Smoothie Blender Analogy 🥤\n",
    "Think of Python as a powerful blender:\n",
    "- **Easy to use:** Simple buttons (syntax) that anyone can learn\n",
    "- **Versatile:** Can make smoothies, soups, sauces (different types of programs)\n",
    "- **Reliable:** Works consistently every time\n",
    "- **Popular:** Everyone has one because it just works!"
   ]
  },
  {
   "cell_type": "markdown",
   "id": "ac4ef112-4958-402b-95bb-deb538f81e50",
   "metadata": {},
   "source": [
    "## Let's Start Coding! 💻"
   ]
  },
  {
   "cell_type": "markdown",
   "id": "4dbf4fe9-35d3-487a-bbde-941ad2022789",
   "metadata": {},
   "source": [
    "### Your First Program: Hello World!\n",
    "\n",
    "The first program every programmer writes is \"Hello World!\". In Python, we use the `print()` function to display text.\n",
    "\n",
    "**📝 Follow Along:** Type this code exactly as I do:"
   ]
  },
  {
   "cell_type": "code",
   "execution_count": null,
   "id": "9bf7bd34-8e7f-4b29-8b03-bcf295adf5ff",
   "metadata": {},
   "outputs": [],
   "source": [
    "# My first Python program!\n",
    "print(\"Hello World!\")"
   ]
  },
  {
   "cell_type": "markdown",
   "id": "85b0f6a3-bf02-4a9e-8fa3-8c305797ce76",
   "metadata": {},
   "source": [
    "🎉 **Congratulations!** You just wrote your first Python program!\n",
    "\n",
    "**Notice:**\n",
    "- The code is inside the **code cell** (gray box)\n",
    "- The computer's response is shown below (the **output**)\n",
    "- **Syntax highlighting**: Different parts have different colors"
   ]
  },
  {
   "cell_type": "markdown",
   "id": "2420d998-8877-43f4-a8a1-c9707622ff9b",
   "metadata": {},
   "source": [
    "### 🏃‍♂️ Quick Practice\n",
    "Now it's your turn! Print the following messages (type each one in the cells below):\n",
    "\n",
    "1. Your name\n",
    "2. Your favorite food\n",
    "3. \"Python is awesome!\""
   ]
  },
  {
   "cell_type": "code",
   "execution_count": null,
   "id": "9b02e247-d9ad-43bf-818e-f63b86b80308",
   "metadata": {},
   "outputs": [],
   "source": [
    "# 1. Print your name here\n"
   ]
  },
  {
   "cell_type": "code",
   "execution_count": null,
   "id": "practice_2",
   "metadata": {},
   "outputs": [],
   "source": [
    "# 2. Print your favorite food here\n"
   ]
  },
  {
   "cell_type": "code",
   "execution_count": null,
   "id": "practice_3",
   "metadata": {},
   "outputs": [],
   "source": [
    "# 3. Print \"Python is awesome!\" here\n"
   ]
  },
  {
   "cell_type": "markdown",
   "id": "e72fc8cc-1957-495f-8c94-84b95c52dd75",
   "metadata": {},
   "source": [
    "## Python as a Calculator 🧮\n",
    "\n",
    "Python can perform math operations just like a calculator. Let's explore!"
   ]
  },
  {
   "cell_type": "code",
   "execution_count": null,
   "id": "821e6c14-36de-458c-854a-9267646a7346",
   "metadata": {},
   "outputs": [],
   "source": [
    "# Basic arithmetic operations\n",
    "print(2 + 1)  # Addition"
   ]
  },
  {
   "cell_type": "code",
   "execution_count": null,
   "id": "b0933b3c-72b2-4b43-b183-4aad642ecbf8",
   "metadata": {},
   "outputs": [],
   "source": [
    "print(9 - 5)  # Subtraction"
   ]
  },
  {
   "cell_type": "code",
   "execution_count": null,
   "id": "6aaec2d3-61ea-4cc1-9927-941f49216023",
   "metadata": {},
   "outputs": [],
   "source": [
    "# Let's try all operations together\n",
    "print(5 + 3)   # Addition\n",
    "print(5 - 3)   # Subtraction  \n",
    "print(5 * 3)   # Multiplication\n",
    "print(15 / 3)  # Division"
   ]
  },
  {
   "cell_type": "markdown",
   "id": "96f5d0af-c055-4b6d-a009-591c937f1b9f",
   "metadata": {},
   "source": [
    "### Python Math Operations\n",
    "\n",
    "| Operation | Symbol | Example | Result |\n",
    "|-----------|--------|---------|--------|\n",
    "| Addition | + | 1 + 2 | 3 |\n",
    "| Subtraction | - | 5 - 4 | 1 |\n",
    "| Multiplication | * | 2 * 4 | 8 |\n",
    "| Division | / | 6 / 3 | 2.0 |\n",
    "| Exponent (Power) | ** | 3 ** 2 | 9 |\n",
    "| Modulus (Remainder) | % | 7 % 3 | 1 |"
   ]
  },
  {
   "cell_type": "code",
   "execution_count": null,
   "id": "e93ce55d-33b4-4181-8c4f-d098b8f36e74",
   "metadata": {},
   "outputs": [],
   "source": [
    "# Try exponent (power)\n",
    "print(3 ** 4)  # 3 to the power of 4"
   ]
  },
  {
   "cell_type": "code",
   "execution_count": null,
   "id": "modulus_example",
   "metadata": {},
   "outputs": [],
   "source": [
    "# Try modulus (remainder)\n",
    "print(7 % 3)  # What's the remainder when 7 is divided by 3?"
   ]
  },
  {
   "cell_type": "markdown",
   "id": "f4c49b84-a03f-4328-be47-b31640434efd",
   "metadata": {},
   "source": [
    "### Order of Operations (PEMDAS)\n",
    "Python follows the same order of operations as math class:"
   ]
  },
  {
   "cell_type": "code",
   "execution_count": null,
   "id": "17ec9d5c-1e21-448e-9cdc-d8f34d6a659f",
   "metadata": {},
   "outputs": [],
   "source": [
    "# Order matters!\n",
    "print(2 + 3 * 4)  # What do you think this will be?"
   ]
  },
  {
   "cell_type": "code",
   "execution_count": null,
   "id": "parentheses_example",
   "metadata": {},
   "outputs": [],
   "source": [
    "# Use parentheses to control order\n",
    "print((2 + 3) * 4)  # Now what?"
   ]
  },
  {
   "cell_type": "markdown",
   "id": "52dc606a-4258-480d-998e-3c6c80ba15a1",
   "metadata": {},
   "source": [
    "### 🧠 Quick Quiz\n",
    "Before running the code, predict what `8 * 3 - 2` will equal. Then test it:"
   ]
  },
  {
   "cell_type": "code",
   "execution_count": null,
   "id": "65e27638-e79d-454b-8730-bac1fda7c12a",
   "metadata": {},
   "outputs": [],
   "source": [
    "# Your prediction: ___\n",
    "print(8 * 3 - 2)"
   ]
  },
  {
   "cell_type": "markdown",
   "id": "8bc73b33-e74c-40f1-8ad0-d3506423fea2",
   "metadata": {},
   "source": [
    "## Comments: Notes for Humans 📝\n",
    "\n",
    "Comments help us document what our code does. They're like **sticky notes** for programmers!\n",
    "\n",
    "**Key points:**\n",
    "- Start with `#` symbol\n",
    "- Python ignores everything after `#`\n",
    "- Help others (and future you) understand your code"
   ]
  },
  {
   "cell_type": "code",
   "execution_count": null,
   "id": "f22fc6cf-21f4-4ecd-beb0-ea22aae7bb19",
   "metadata": {},
   "outputs": [],
   "source": [
    "# This is a comment - it won't run\n",
    "print(\"This will run!\")  # This comment is at the end of a line"
   ]
  },
  {
   "cell_type": "code",
   "execution_count": null,
   "id": "b7068035-1167-4374-b3d1-e9e32089a79a",
   "metadata": {},
   "outputs": [],
   "source": [
    "# Try uncommenting the line below (remove the #)\n",
    "# print(\"I'm commented out!\")"
   ]
  },
  {
   "cell_type": "markdown",
   "id": "e7158e82-f5e4-412e-96d6-1dfcdd5e4fd0",
   "metadata": {},
   "source": [
    "## Variables: Containers for Data 📦\n",
    "\n",
    "### The Container Analogy\n",
    "Think of variables as **labeled containers** where you can store different items (data):\n",
    "- The **label** is the variable name\n",
    "- The **contents** is the value stored inside\n",
    "- You can change what's inside the container anytime"
   ]
  },
  {
   "cell_type": "code",
   "execution_count": null,
   "id": "68a954d1-f702-4ded-b1e1-4e071d39ae42",
   "metadata": {},
   "outputs": [],
   "source": [
    "# Creating variables\n",
    "student_name = \"Alice\"\n",
    "student_age = 20\n",
    "is_enrolled = True\n",
    "\n",
    "print(student_name)\n",
    "print(student_age)\n",
    "print(is_enrolled)"
   ]
  },
  {
   "cell_type": "markdown",
   "id": "f091547d-c5c9-4e70-9f3f-d7a6c8f4e7e7",
   "metadata": {},
   "source": [
    "### Variable Naming Rules 📋\n",
    "Good variable names are like good labels - clear and descriptive!\n",
    "\n",
    "**Rules:**\n",
    "- No spaces (use `_` instead)\n",
    "- Must start with letter or underscore\n",
    "- Only letters, numbers, and underscores\n",
    "- Case sensitive (`Age` ≠ `age`)\n",
    "\n",
    "**Examples:**\n",
    "- ✅ `student_age`, `first_name`, `total_score`\n",
    "- ❌ `student age`, `1st_name`, `total-score`"
   ]
  },
  {
   "cell_type": "code",
   "execution_count": null,
   "id": "9207577d-7dba-4a7c-a24e-0e23c069876d",
   "metadata": {},
   "outputs": [],
   "source": [
    "# Good variable names\n",
    "first_name = \"John\"\n",
    "last_name = \"Doe\"\n",
    "current_year = 2024\n",
    "\n",
    "print(first_name, last_name)\n",
    "print(\"Current year:\", current_year)"
   ]
  },
  {
   "cell_type": "markdown",
   "id": "ff2fface-04b9-44d2-a306-027b220d6d12",
   "metadata": {},
   "source": [
    "### Changing Variables\n",
    "You can update what's stored in a variable anytime:"
   ]
  },
  {
   "cell_type": "code",
   "execution_count": null,
   "id": "201ff62b-1550-4a46-844a-f58bab15f3f4",
   "metadata": {},
   "outputs": [],
   "source": [
    "# Start with one value\n",
    "score = 85\n",
    "print(\"Original score:\", score)\n",
    "\n",
    "# Update the score\n",
    "score = 92\n",
    "print(\"New score:\", score)\n",
    "\n",
    "# Add to the current score\n",
    "score = score + 5\n",
    "print(\"Final score:\", score)"
   ]
  },
  {
   "cell_type": "markdown",
   "id": "d69df328-5a53-4b52-a9be-b393fc81a0e6",
   "metadata": {},
   "source": [
    "### 🏗️ Live Coding: Time Calculator\n",
    "Let's build a program together that calculates seconds in different time periods:"
   ]
  },
  {
   "cell_type": "code",
   "execution_count": null,
   "id": "9642c3ee-290b-46e9-8c01-ee8715e4a543",
   "metadata": {},
   "outputs": [],
   "source": [
    "# Let's calculate seconds in a day\n",
    "# Follow along as we build this step by step\n",
    "\n",
    "hours_per_day = 24\n",
    "minutes_per_hour = 60\n",
    "seconds_per_minute = 60\n",
    "\n",
    "# Calculate total seconds\n",
    "seconds_per_day = hours_per_day * minutes_per_hour * seconds_per_minute\n",
    "print(f\"Seconds in a day: {seconds_per_day}\")"
   ]
  },
  {
   "cell_type": "markdown",
   "id": "b1cc5ec3-40e2-4023-b6ab-e2cd086d42bc",
   "metadata": {},
   "source": [
    "### 🎯 In-Class Exercise: Build a Calculator (15 minutes)\n",
    "\n",
    "Create variables for two numbers and perform all basic operations on them:"
   ]
  },
  {
   "cell_type": "code",
   "execution_count": null,
   "id": "514971aa-526a-4a94-a545-e4d60b5fe8c3",
   "metadata": {},
   "outputs": [],
   "source": [
    "# Create your calculator here\n",
    "# 1. Create two number variables\n",
    "# 2. Calculate and print: addition, subtraction, multiplication, division\n",
    "# 3. Try some creative combinations!\n",
    "\n",
    "num1 = 0  # Change this value\n",
    "num2 = 0  # Change this value\n",
    "\n",
    "# Your calculations here:\n"
   ]
  },
  {
   "cell_type": "markdown",
   "id": "0124b56a-1df9-4762-ab36-385aa4f4a485",
   "metadata": {},
   "source": [
    "## Debugging: Fixing Broken Code 🔧\n",
    "\n",
    "Debugging is like being a **code detective** - you find and fix errors!\n",
    "\n",
    "### Common Error: NameError"
   ]
  },
  {
   "cell_type": "code",
   "execution_count": null,
   "id": "ebdad4b5-84ba-468e-b237-b24673c0307d",
   "metadata": {},
   "outputs": [],
   "source": [
    "# This will cause an error - can you spot why?\n",
    "my_name = \"Alice\"\n",
    "print(my_nme)  # Typo in variable name!"
   ]
  },
  {
   "cell_type": "markdown",
   "id": "9645f6de-3186-46b1-ac50-82e8122c39f2",
   "metadata": {},
   "source": [
    "When you see `NameError`, check your spelling! The variable name must match exactly."
   ]
  },
  {
   "cell_type": "code",
   "execution_count": null,
   "id": "e2beb923-5095-40a5-b92d-285850c30f27",
   "metadata": {},
   "outputs": [],
   "source": [
    "# Fixed version\n",
    "my_name = \"Alice\"\n",
    "print(my_name)  # Correct spelling!"
   ]
  },
  {
   "cell_type": "markdown",
   "id": "79c7add3-f36f-4057-b129-4a367e805479",
   "metadata": {},
   "source": [
    "### 🐛 Debug Challenge\n",
    "Fix the errors in this code:"
   ]
  },
  {
   "cell_type": "code",
   "execution_count": null,
   "id": "0fe64560-b6da-4f21-808a-c207370c154b",
   "metadata": {},
   "outputs": [],
   "source": [
    "# There are 3 errors in this code - can you find them?\n",
    "print(\"Welcome to Python!)\n",
    "student_age = 20\n",
    "print(Student_age)\n",
    "print(5 + * 3)"
   ]
  },
  {
   "cell_type": "markdown",
   "id": "summary_section",
   "metadata": {},
   "source": [
    "## 📚 Session Summary\n",
    "\n",
    "Today you learned:\n",
    "- ✅ What programming is (chef + recipe analogy)\n",
    "- ✅ Why Python is awesome for beginners\n",
    "- ✅ How to print messages and do math\n",
    "- ✅ How to use variables (containers for data)\n",
    "- ✅ How to debug common errors\n",
    "\n",
    "### 🏠 Homework Preview\n",
    "Your homework will include:\n",
    "1. Practice exercises with variables and math\n",
    "2. Build a personal information program\n",
    "3. Fix broken code (debugging practice)\n",
    "\n",
    "### 🚀 Next Session Preview\n",
    "Next class we'll learn about:\n",
    "- Different types of data (strings, numbers)\n",
    "- How to get input from users\n",
    "- String manipulation techniques"
   ]
  },
  {
   "cell_type": "markdown",
   "id": "final_practice",
   "metadata": {},
   "source": [
    "## 🎯 Final Practice\n",
    "Before you leave, try this challenge:"
   ]
  },
  {
   "cell_type": "code",
   "execution_count": null,
   "id": "final_challenge",
   "metadata": {},
   "outputs": [],
   "source": [
    "# Create a program that calculates and displays:\n",
    "# - Your age in days (approximately)\n",
    "# - Your age in hours (approximately)\n",
    "# Use variables and comments to make it clear!\n",
    "\n"
   ]
  }
 ],
 "metadata": {
  "kernelspec": {
   "display_name": "Python 3",
   "language": "python",
   "name": "python3"
  },
  "language_info": {
   "codemirror_mode": {
    "name": "ipython",
    "version": 3
   },
   "file_extension": ".py",
   "mimetype": "text/x-python",
   "name": "python",
   "nbconvert_exporter": "python",
   "pygments_lexer": "ipython3",
   "version": "3.9.0"
  }
 },
 "nbformat": 4,
 "nbformat_minor": 5
}
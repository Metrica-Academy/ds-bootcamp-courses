{
 "cells": [
  {
   "cell_type": "markdown",
   "id": "title",
   "metadata": {},
   "source": [
    "# Lesson 3: Lists & List Operations\n",
    "\n",
    "**Session:** Week 1, Saturday (3 hours)  \n",
    "**Learning Objectives:**\n",
    "- Understand what lists are and why they're useful\n",
    "- Create and modify lists\n",
    "- Access list elements using indexing\n",
    "- Use list methods to manipulate data\n",
    "- Build practical programs with lists"
   ]
  },
  {
   "cell_type": "markdown",
   "id": "warmup",
   "metadata": {},
   "source": [
    "## 🔄 Quick Warmup\n",
    "Let's review what we learned in our last session:"
   ]
  },
  {
   "cell_type": "code",
   "execution_count": null,
   "id": "warmup_code",
   "metadata": {},
   "outputs": [],
   "source": [
    "# Quick review: data types and f-strings\n",
    "name = \"Python Student\"\n",
    "age = 25\n",
    "height = 1.75\n",
    "is_learning = True\n",
    "\n",
    "print(f\"Name: {name} (type: {type(name).__name__})\")\n",
    "print(f\"Age: {age} (type: {type(age).__name__})\")\n",
    "print(f\"Height: {height}m (type: {type(height).__name__})\")\n",
    "print(f\"Learning: {is_learning} (type: {type(is_learning).__name__})\")"
   ]
  },
  {
   "cell_type": "markdown",
   "id": "intro_problem",
   "metadata": {},
   "source": [
    "## The Problem: Storing Multiple Items 📦\n",
    "\n",
    "Imagine you want to store information about multiple students in your program:"
   ]
  },
  {
   "cell_type": "code",
   "execution_count": null,
   "id": "problem_demo",
   "metadata": {},
   "outputs": [],
   "source": [
    "# The inefficient way - separate variables for each item\n",
    "student1 = \"Alice\"\n",
    "student2 = \"Bob\"\n",
    "student3 = \"Charlie\"\n",
    "student4 = \"Diana\"\n",
    "student5 = \"Eve\"\n",
    "\n",
    "print(\"Our students:\")\n",
    "print(student1)\n",
    "print(student2)\n",
    "print(student3)\n",
    "print(student4)\n",
    "print(student5)\n",
    "\n",
    "# What if we have 100 students? 1000? This doesn't scale! 😱"
   ]
  },
  {
   "cell_type": "markdown",
   "id": "bookshelf_analogy",
   "metadata": {},
   "source": [
    "## The Bookshelf Analogy 📚\n",
    "\n",
    "### Think of a List as a Bookshelf\n",
    "\n",
    "<div align=center>\n",
    "    <img src=\"../../resources/images/figs/bookshelf.png\" width=\"50%\" height=\"50%\">\n",
    "</div>\n",
    "\n",
    "A **Python list** is like a **bookshelf**:\n",
    "- 📖 Each **book** is an item in the list\n",
    "- 🏷️ Each **shelf position** has a number (index)\n",
    "- 📚 You can **add** new books\n",
    "- 🔄 You can **rearrange** books\n",
    "- ❌ You can **remove** books you don't need\n",
    "- 🔍 You can **find** a specific book by its position\n",
    "\n",
    "### Empty vs Full Bookshelf\n",
    "- **Empty bookshelf** = Empty list: `[]`\n",
    "- **Bookshelf with books** = List with items: `[\"Python\", \"JavaScript\", \"Java\"]`"
   ]
  },
  {
   "cell_type": "markdown",
   "id": "creating_lists",
   "metadata": {},
   "source": [
    "## Creating Your First Lists 🎯"
   ]
  },
  {
   "cell_type": "code",
   "execution_count": null,
   "id": "first_list",
   "metadata": {},
   "outputs": [],
   "source": [
    "# Creating lists - much better than separate variables!\n",
    "students = [\"Alice\", \"Bob\", \"Charlie\", \"Diana\", \"Eve\"]\n",
    "ages = [20, 19, 21, 22, 20]\n",
    "grades = [85.5, 92.0, 78.5, 96.0, 88.5]\n",
    "\n",
    "print(\"Students:\", students)\n",
    "print(\"Ages:\", ages)\n",
    "print(\"Grades:\", grades)\n",
    "\n",
    "# Different types in one list (though usually not recommended)\n",
    "mixed_data = [\"Alice\", 20, True, 85.5]\n",
    "print(\"Mixed data:\", mixed_data)"
   ]
  },
  {
   "cell_type": "code",
   "execution_count": null,
   "id": "empty_lists",
   "metadata": {},
   "outputs": [],
   "source": [
    "# Different ways to create lists\n",
    "empty_list = []                              # Empty list\n",
    "shopping_cart = [\"apples\", \"bananas\", \"milk\"] # With initial items\n",
    "numbers = [1, 2, 3, 4, 5]                    # Numbers\n",
    "booleans = [True, False, True]               # Boolean values\n",
    "\n",
    "print(f\"Empty list: {empty_list}\")\n",
    "print(f\"Shopping cart: {shopping_cart}\")\n",
    "print(f\"Numbers: {numbers}\")\n",
    "print(f\"Booleans: {booleans}\")"
   ]
  },
  {
   "cell_type": "markdown",
   "id": "indexing_section",
   "metadata": {},
   "source": [
    "## List Indexing: Finding Items on Your Bookshelf 🔍\n",
    "\n",
    "### The Address System\n",
    "Each item in a list has an **address** (called an index):\n",
    "\n",
    "<div align=center>\n",
    "    <img src=\"../../resources/images/figs/list_index.png\" width=\"60%\" height=\"60%\">\n",
    "</div>\n",
    "\n",
    "**Important:** Python starts counting from **0**, not 1!"
   ]
  },
  {
   "cell_type": "code",
   "execution_count": null,
   "id": "indexing_demo",
   "metadata": {},
   "outputs": [],
   "source": [
    "# List indexing demonstration\n",
    "fruits = [\"apple\", \"banana\", \"cherry\", \"date\", \"elderberry\"]\n",
    "print(\"Our fruit list:\", fruits)\n",
    "print()\n",
    "\n",
    "# Accessing individual items by index\n",
    "print(\"Index 0 (first):\", fruits[0])      # \"apple\"\n",
    "print(\"Index 1 (second):\", fruits[1])     # \"banana\" \n",
    "print(\"Index 2 (third):\", fruits[2])      # \"cherry\"\n",
    "print(\"Index 3 (fourth):\", fruits[3])     # \"date\"\n",
    "print(\"Index 4 (fifth):\", fruits[4])      # \"elderberry\""
   ]
  },
  {
   "cell_type": "markdown",
   "id": "negative_indexing",
   "metadata": {},
   "source": [
    "### Negative Indexing: Counting from the End 🔄"
   ]
  },
  {
   "cell_type": "code",
   "execution_count": null,
   "id": "negative_index_demo",
   "metadata": {},
   "outputs": [],
   "source": [
    "# Negative indexing - counting from the end\n",
    "fruits = [\"apple\", \"banana\", \"cherry\", \"date\", \"elderberry\"]\n",
    "\n",
    "print(\"Positive indexing (from start):\")\n",
    "print(f\"fruits[0] = {fruits[0]}\")\n",
    "print(f\"fruits[4] = {fruits[4]}\")\n",
    "\n",
    "print(\"\\nNegative indexing (from end):\")\n",
    "print(f\"fruits[-1] (last) = {fruits[-1]}\")\n",
    "print(f\"fruits[-2] (2nd to last) = {fruits[-2]}\")\n",
    "print(f\"fruits[-5] (5th from end) = {fruits[-5]}\")\n",
    "\n",
    "# Useful for getting the last item without counting!\n",
    "last_fruit = fruits[-1]\n",
    "print(f\"\\nLast fruit: {last_fruit}\")"
   ]
  },
  {
   "cell_type": "markdown",
   "id": "practice_indexing",
   "metadata": {},
   "source": [
    "### 🏃‍♂️ Quick Practice: List Indexing\n",
    "Try accessing different items from this list:"
   ]
  },
  {
   "cell_type": "code",
   "execution_count": null,
   "id": "indexing_practice",
   "metadata": {},
   "outputs": [],
   "source": [
    "colors = [\"red\", \"green\", \"blue\", \"yellow\", \"purple\", \"orange\"]\n",
    "\n",
    "# Try these:\n",
    "# 1. Print the first color\n",
    "# 2. Print the third color  \n",
    "# 3. Print the last color using negative indexing\n",
    "# 4. Print the second-to-last color\n",
    "\n"
   ]
  },
  {
   "cell_type": "markdown",
   "id": "slicing_section",
   "metadata": {},
   "source": [
    "## List Slicing: Taking Multiple Books at Once 📖\n",
    "\n",
    "Sometimes you want to get **multiple items** from a list at once:"
   ]
  },
  {
   "cell_type": "code",
   "execution_count": null,
   "id": "slicing_demo",
   "metadata": {},
   "outputs": [],
   "source": [
    "# List slicing: [start:stop:step]\n",
    "numbers = [0, 1, 2, 3, 4, 5, 6, 7, 8, 9]\n",
    "print(\"Original list:\", numbers)\n",
    "\n",
    "# Basic slicing\n",
    "print(\"\\nBasic slicing:\")\n",
    "print(f\"numbers[2:6] = {numbers[2:6]}\")     # Items from index 2 to 5 (6 is excluded)\n",
    "print(f\"numbers[:4] = {numbers[:4]}\")       # From start to index 3\n",
    "print(f\"numbers[6:] = {numbers[6:]}\")       # From index 6 to end\n",
    "print(f\"numbers[:] = {numbers[:]}\")         # All items (copy of list)\n",
    "\n",
    "# Slicing with step\n",
    "print(\"\\nSlicing with step:\")\n",
    "print(f\"numbers[::2] = {numbers[::2]}\")     # Every 2nd item\n",
    "print(f\"numbers[1::2] = {numbers[1::2]}\")   # Every 2nd item starting from index 1\n",
    "print(f\"numbers[::-1] = {numbers[::-1]}\")   # Reverse the list!"
   ]
  },
  {
   "cell_type": "markdown",
   "id": "list_info",
   "metadata": {},
   "source": [
    "## Getting Information About Lists 📊"
   ]
  },
  {
   "cell_type": "code",
   "execution_count": null,
   "id": "list_info_demo",
   "metadata": {},
   "outputs": [],
   "source": [
    "# Useful list information\n",
    "students = [\"Alice\", \"Bob\", \"Charlie\", \"Diana\", \"Eve\"]\n",
    "\n",
    "print(f\"List: {students}\")\n",
    "print(f\"Length: {len(students)} students\")\n",
    "print(f\"Type: {type(students)}\")\n",
    "\n",
    "# Check if item exists\n",
    "print(f\"\\nIs 'Alice' in the list? {'Alice' in students}\")\n",
    "print(f\"Is 'Frank' in the list? {'Frank' in students}\")\n",
    "\n",
    "# Get index of item\n",
    "alice_position = students.index(\"Alice\")\n",
    "print(f\"Alice is at index: {alice_position}\")\n",
    "\n",
    "# Count occurrences\n",
    "numbers = [1, 2, 3, 2, 2, 4, 5]\n",
    "count_of_twos = numbers.count(2)\n",
    "print(f\"\\nNumber 2 appears {count_of_twos} times in {numbers}\")"
   ]
  },
  {
   "cell_type": "markdown",
   "id": "modifying_lists",
   "metadata": {},
   "source": [
    "## Modifying Lists: Reorganizing Your Bookshelf 🔄\n",
    "\n",
    "### Changing Individual Items"
   ]
  },
  {
   "cell_type": "code",
   "execution_count": null,
   "id": "modify_items",
   "metadata": {},
   "outputs": [],
   "source": [
    "# Modifying list items\n",
    "students = [\"alice\", \"bob\", \"charlie\"]\n",
    "print(\"Original:\", students)\n",
    "\n",
    "# Change individual items\n",
    "students[0] = \"Alice\"        # Fix capitalization\n",
    "students[1] = \"Robert\"       # Bob's full name\n",
    "print(\"After changes:\", students)\n",
    "\n",
    "# Change multiple items using slicing\n",
    "numbers = [1, 2, 3, 4, 5]\n",
    "print(\"Original numbers:\", numbers)\n",
    "numbers[1:4] = [20, 30, 40]  # Replace items 1, 2, 3\n",
    "print(\"After slice change:\", numbers)"
   ]
  },
  {
   "cell_type": "markdown",
   "id": "adding_items",
   "metadata": {},
   "source": [
    "### Adding Items to Lists"
   ]
  },
  {
   "cell_type": "code",
   "execution_count": null,
   "id": "adding_demo",
   "metadata": {},
   "outputs": [],
   "source": [
    "# Different ways to add items\n",
    "shopping_cart = [\"apples\", \"bananas\"]\n",
    "print(\"Starting cart:\", shopping_cart)\n",
    "\n",
    "# append() - add one item to the end\n",
    "shopping_cart.append(\"milk\")\n",
    "print(\"After append:\", shopping_cart)\n",
    "\n",
    "# insert() - add item at specific position\n",
    "shopping_cart.insert(1, \"bread\")  # Insert at index 1\n",
    "print(\"After insert:\", shopping_cart)\n",
    "\n",
    "# extend() - add multiple items from another list\n",
    "more_items = [\"eggs\", \"cheese\", \"butter\"]\n",
    "shopping_cart.extend(more_items)\n",
    "print(\"After extend:\", shopping_cart)\n",
    "\n",
    "# + operator - combine lists (creates new list)\n",
    "fruits = [\"oranges\", \"grapes\"]\n",
    "full_cart = shopping_cart + fruits\n",
    "print(\"Combined cart:\", full_cart)"
   ]
  },
  {
   "cell_type": "markdown",
   "id": "removing_items",
   "metadata": {},
   "source": [
    "### Removing Items from Lists"
   ]
  },
  {
   "cell_type": "code",
   "execution_count": null,
   "id": "removing_demo",
   "metadata": {},
   "outputs": [],
   "source": [
    "# Different ways to remove items\n",
    "todo_list = [\"wake up\", \"brush teeth\", \"eat breakfast\", \"study Python\", \"exercise\", \"sleep\"]\n",
    "print(\"Original todo list:\", todo_list)\n",
    "\n",
    "# remove() - remove first occurrence of specific value\n",
    "todo_list.remove(\"wake up\")  # Already done!\n",
    "print(\"After remove:\", todo_list)\n",
    "\n",
    "# pop() - remove and return item at index (default is last item)\n",
    "last_task = todo_list.pop()  # Remove last item\n",
    "print(f\"Removed '{last_task}', list now: {todo_list}\")\n",
    "\n",
    "second_task = todo_list.pop(1)  # Remove item at index 1\n",
    "print(f\"Removed '{second_task}', list now: {todo_list}\")\n",
    "\n",
    "# del - delete item(s) at specific index\n",
    "del todo_list[0]  # Delete first item\n",
    "print(\"After del:\", todo_list)\n",
    "\n",
    "# clear() - remove all items\n",
    "temp_list = [1, 2, 3]\n",
    "temp_list.clear()\n",
    "print(\"After clear:\", temp_list)"
   ]
  },
  {
   "cell_type": "markdown",
   "id": "sorting_section",
   "metadata": {},
   "source": [
    "### Organizing Your List: Sorting"
   ]
  },
  {
   "cell_type": "code",
   "execution_count": null,
   "id": "sorting_demo",
   "metadata": {},
   "outputs": [],
   "source": [
    "# Sorting lists\n",
    "names = [\"Charlie\", \"Alice\", \"Bob\", \"Diana\"]\n",
    "numbers = [3, 1, 4, 1, 5, 9, 2, 6]\n",
    "\n",
    "print(\"Original names:\", names)\n",
    "print(\"Original numbers:\", numbers)\n",
    "\n",
    "# sort() - sorts the list in-place (modifies original)\n",
    "names.sort()\n",
    "numbers.sort()\n",
    "print(\"\\nAfter sort():\")\n",
    "print(\"Sorted names:\", names)\n",
    "print(\"Sorted numbers:\", numbers)\n",
    "\n",
    "# Sort in reverse order\n",
    "names.sort(reverse=True)\n",
    "print(\"Names (reverse):\", names)\n",
    "\n",
    "# sorted() - returns new sorted list (keeps original unchanged)\n",
    "original = [\"zebra\", \"apple\", \"banana\"]\n",
    "sorted_version = sorted(original)\n",
    "print(f\"\\nOriginal: {original}\")\n",
    "print(f\"Sorted copy: {sorted_version}\")\n",
    "\n",
    "# reverse() - reverse the order\n",
    "numbers.reverse()\n",
    "print(f\"Reversed numbers: {numbers}\")"
   ]
  },
  {
   "cell_type": "markdown",
   "id": "live_coding",
   "metadata": {},
   "source": [
    "## 🏗️ Live Coding: Building a Shopping Cart Program\n",
    "\n",
    "Let's build a program together that manages a shopping cart:"
   ]
  },
  {
   "cell_type": "code",
   "execution_count": null,
   "id": "shopping_cart_demo",
   "metadata": {},
   "outputs": [],
   "source": [
    "# Shopping cart program - follow along!\n",
    "print(\"=== Shopping Cart Manager ===\")\n",
    "\n",
    "# Start with empty cart\n",
    "cart = []\n",
    "print(f\"Starting cart: {cart}\")\n",
    "\n",
    "# Add items\n",
    "cart.append(\"apples\")\n",
    "cart.append(\"bread\")\n",
    "cart.append(\"milk\")\n",
    "print(f\"After adding items: {cart}\")\n",
    "\n",
    "# Insert urgent item at beginning\n",
    "cart.insert(0, \"medicine\")\n",
    "print(f\"After inserting medicine: {cart}\")\n",
    "\n",
    "# Add multiple items\n",
    "more_items = [\"eggs\", \"cheese\", \"butter\"]\n",
    "cart.extend(more_items)\n",
    "print(f\"After adding more items: {cart}\")\n",
    "\n",
    "# Check cart info\n",
    "print(f\"\\nCart summary:\")\n",
    "print(f\"Total items: {len(cart)}\")\n",
    "print(f\"First item: {cart[0]}\")\n",
    "print(f\"Last item: {cart[-1]}\")\n",
    "print(f\"Is milk in cart? {'milk' in cart}\")\n",
    "\n",
    "# Sort alphabetically\n",
    "cart.sort()\n",
    "print(f\"\\nSorted cart: {cart}\")\n",
    "\n",
    "# Remove item we don't need\n",
    "if \"medicine\" in cart:\n",
    "    cart.remove(\"medicine\")\n",
    "    print(f\"Removed medicine: {cart}\")\n",
    "\n",
    "print(f\"\\nFinal cart ({len(cart)} items): {cart}\")"
   ]
  },
  {
   "cell_type": "markdown",
   "id": "train_analogy",
   "metadata": {},
   "source": [
    "## The Train Analogy 🚂\n",
    "\n",
    "Another way to think about lists:\n",
    "\n",
    "<div align=center>\n",
    "    <img src=\"../../resources/images/figs/list_train_analogy.png\" width=\"60%\" height=\"60%\">\n",
    "</div>\n",
    "\n",
    "- **Train cars** = List items\n",
    "- **Car numbers** = Indices (0, 1, 2, ...)\n",
    "- **Adding cars** = append(), insert()\n",
    "- **Removing cars** = remove(), pop()\n",
    "- **Rearranging** = sort(), reverse()"
   ]
  },
  {
   "cell_type": "markdown",
   "id": "list_comprehension_intro",
   "metadata": {},
   "source": [
    "## List Comprehensions: Advanced List Creation 🚀\n",
    "\n",
    "A powerful Python feature for creating lists in one line:"
   ]
  },
  {
   "cell_type": "code",
   "execution_count": null,
   "id": "comprehension_demo",
   "metadata": {},
   "outputs": [],
   "source": [
    "# Traditional way to create a list of squares\n",
    "squares_old_way = []\n",
    "for i in range(1, 6):\n",
    "    squares_old_way.append(i ** 2)\n",
    "print(\"Squares (old way):\", squares_old_way)\n",
    "\n",
    "# List comprehension way (one line!)\n",
    "squares_new_way = [i ** 2 for i in range(1, 6)]\n",
    "print(\"Squares (list comprehension):\", squares_new_way)\n",
    "\n",
    "# More examples\n",
    "names = [\"alice\", \"bob\", \"charlie\"]\n",
    "capitalized = [name.title() for name in names]\n",
    "print(\"Capitalized names:\", capitalized)\n",
    "\n",
    "# With conditions\n",
    "numbers = [1, 2, 3, 4, 5, 6, 7, 8, 9, 10]\n",
    "even_numbers = [n for n in numbers if n % 2 == 0]\n",
    "print(\"Even numbers:\", even_numbers)"
   ]
  },
  {
   "cell_type": "markdown",
   "id": "common_patterns",
   "metadata": {},
   "source": [
    "## Common List Patterns 🎯\n",
    "\n",
    "### Creating Number Ranges"
   ]
  },
  {
   "cell_type": "code",
   "execution_count": null,
   "id": "ranges_demo",
   "metadata": {},
   "outputs": [],
   "source": [
    "# Using range() to create number lists\n",
    "numbers_1_to_10 = list(range(1, 11))        # 1 to 10\n",
    "even_numbers = list(range(0, 21, 2))        # 0 to 20, step by 2\n",
    "countdown = list(range(10, 0, -1))          # 10 to 1, counting down\n",
    "\n",
    "print(\"Numbers 1 to 10:\", numbers_1_to_10)\n",
    "print(\"Even numbers 0-20:\", even_numbers)\n",
    "print(\"Countdown:\", countdown)\n",
    "\n",
    "# Useful for creating test data\n",
    "test_scores = [85, 92, 78, 96, 88, 91, 84, 79, 93, 87]\n",
    "print(f\"\\nTest scores: {test_scores}\")\n",
    "print(f\"Highest score: {max(test_scores)}\")\n",
    "print(f\"Lowest score: {min(test_scores)}\")\n",
    "print(f\"Average score: {sum(test_scores) / len(test_scores):.1f}\")"
   ]
  },
  {
   "cell_type": "markdown",
   "id": "nested_lists",
   "metadata": {},
   "source": [
    "### Nested Lists (Lists within Lists)"
   ]
  },
  {
   "cell_type": "code",
   "execution_count": null,
   "id": "nested_demo",
   "metadata": {},
   "outputs": [],
   "source": [
    "# Lists can contain other lists!\n",
    "classroom = [\n",
    "    [\"Alice\", 20, 85.5],\n",
    "    [\"Bob\", 19, 92.0],\n",
    "    [\"Charlie\", 21, 78.5]\n",
    "]\n",
    "\n",
    "print(\"Classroom data:\", classroom)\n",
    "print(\"First student:\", classroom[0])\n",
    "print(\"First student's name:\", classroom[0][0])\n",
    "print(\"Second student's grade:\", classroom[1][2])\n",
    "\n",
    "# 2D grid example\n",
    "tic_tac_toe = [\n",
    "    [\"X\", \"O\", \"X\"],\n",
    "    [\"O\", \"X\", \"O\"],\n",
    "    [\"X\", \"O\", \"X\"]\n",
    "]\n",
    "\n",
    "print(\"\\nTic-tac-toe board:\")\n",
    "for row in tic_tac_toe:\n",
    "    print(row)"
   ]
  },
  {
   "cell_type": "markdown",
   "id": "exercise_section",
   "metadata": {},
   "source": [
    "## 🎯 In-Class Exercise: Student Grade Manager (30 minutes)\n",
    "\n",
    "Build a program that manages student grades:"
   ]
  },
  {
   "cell_type": "code",
   "execution_count": null,
   "id": "grade_manager_exercise",
   "metadata": {},
   "outputs": [],
   "source": [
    "# Student Grade Manager Exercise\n",
    "print(\"=== Student Grade Manager ===\")\n",
    "\n",
    "# TODO: Create a list of student names\n",
    "students = []  # Add some student names here\n",
    "\n",
    "# TODO: Create a list of corresponding grades\n",
    "grades = []    # Add corresponding grades here\n",
    "\n",
    "# TODO: Implement the following features:\n",
    "# 1. Display all students and their grades\n",
    "# 2. Find the highest and lowest grades\n",
    "# 3. Calculate the average grade\n",
    "# 4. Add a new student and grade\n",
    "# 5. Remove a student (and their grade)\n",
    "# 6. Sort students by grade (high to low)\n",
    "\n",
    "# Start your solution here:\n",
    "\n"
   ]
  },
  {
   "cell_type": "markdown",
   "id": "debugging_lists",
   "metadata": {},
   "source": [
    "## 🐛 Common List Errors & How to Fix Them"
   ]
  },
  {
   "cell_type": "code",
   "execution_count": null,
   "id": "list_errors",
   "metadata": {},
   "outputs": [],
   "source": [
    "# Common error 1: IndexError\n",
    "fruits = [\"apple\", \"banana\", \"cherry\"]\n",
    "print(\"List has\", len(fruits), \"items\")\n",
    "print(\"Valid indices: 0, 1, 2\")\n",
    "\n",
    "# This would cause an IndexError:\n",
    "# print(fruits[3])  # Index 3 doesn't exist!\n",
    "\n",
    "# Safe way to access:\n",
    "if len(fruits) > 3:\n",
    "    print(fruits[3])\n",
    "else:\n",
    "    print(\"Index 3 is out of range\")"
   ]
  },
  {
   "cell_type": "code",
   "execution_count": null,
   "id": "list_errors2",
   "metadata": {},
   "outputs": [],
   "source": [
    "# Common error 2: Trying to remove item that doesn't exist\n",
    "numbers = [1, 2, 3, 4, 5]\n",
    "\n",
    "# This would cause a ValueError:\n",
    "# numbers.remove(6)  # 6 is not in the list!\n",
    "\n",
    "# Safe way to remove:\n",
    "item_to_remove = 6\n",
    "if item_to_remove in numbers:\n",
    "    numbers.remove(item_to_remove)\n",
    "    print(f\"Removed {item_to_remove}\")\n",
    "else:\n",
    "    print(f\"{item_to_remove} not found in list\")\n",
    "    \n",
    "print(\"Final list:\", numbers)"
   ]
  },
  {
   "cell_type": "markdown",
   "id": "practice_time",
   "metadata": {},
   "source": [
    "## 🏃‍♂️ Practice Challenges"
   ]
  },
  {
   "cell_type": "code",
   "execution_count": null,
   "id": "practice1",
   "metadata": {},
   "outputs": [],
   "source": [
    "# Challenge 1: Create a list of your top 5 favorite movies\n",
    "# Then:\n",
    "# - Print each movie with its rank (1st, 2nd, etc.)\n",
    "# - Add a 6th movie\n",
    "# - Remove your least favorite\n",
    "# - Sort them alphabetically\n",
    "\n"
   ]
  },
  {
   "cell_type": "code",
   "execution_count": null,
   "id": "practice2",
   "metadata": {},
   "outputs": [],
   "source": [
    "# Challenge 2: Number analysis\n",
    "# Given this list of numbers, find:\n",
    "numbers = [12, 45, 23, 67, 89, 34, 56, 78, 90, 11, 33, 55, 77, 99]\n",
    "\n",
    "# - All even numbers\n",
    "# - All numbers greater than 50\n",
    "# - The sum of all numbers\n",
    "# - Numbers at even indices (0, 2, 4, ...)\n",
    "\n"
   ]
  },
  {
   "cell_type": "code",
   "execution_count": null,
   "id": "practice3",
   "metadata": {},
   "outputs": [],
   "source": [
    "# Challenge 3: Text processing\n",
    "sentence = \"Python programming is fun and powerful\"\n",
    "words = sentence.split()  # This creates a list of words\n",
    "print(\"Words:\", words)\n",
    "\n",
    "# Your tasks:\n",
    "# - Count how many words there are\n",
    "# - Find the longest word\n",
    "# - Create a list of word lengths\n",
    "# - Join the words back into a sentence with \"-\" between them\n",
    "\n"
   ]
  },
  {
   "cell_type": "markdown",
   "id": "summary_section",
   "metadata": {},
   "source": [
    "## 📚 Session Summary\n",
    "\n",
    "Today you mastered Python lists! You learned:\n",
    "\n",
    "### ✅ Core Concepts\n",
    "- **Lists** store multiple items in order: `[\"item1\", \"item2\", \"item3\"]`\n",
    "- **Indexing** starts at 0: `list[0]` is first item\n",
    "- **Negative indexing** counts from end: `list[-1]` is last item\n",
    "- **Slicing** gets multiple items: `list[1:4]` gets items 1, 2, 3\n",
    "\n",
    "### ✅ Essential Methods\n",
    "- **Adding:** `append()`, `insert()`, `extend()`\n",
    "- **Removing:** `remove()`, `pop()`, `del`, `clear()`\n",
    "- **Organizing:** `sort()`, `reverse()`\n",
    "- **Information:** `len()`, `count()`, `index()`, `in`\n",
    "\n",
    "### ✅ Key Analogies\n",
    "- **Bookshelf** 📚: Items have positions, can be rearranged\n",
    "- **Train** 🚂: Cars in sequence, can add/remove cars\n",
    "\n",
    "### 🔑 Remember\n",
    "1. **Index errors** happen when you access positions that don't exist\n",
    "2. **Lists are mutable** - you can change them after creation\n",
    "3. **Check first** before removing items that might not exist\n",
    "4. **Negative indexing** is great for getting items from the end\n",
    "\n",
    "### 🏠 Homework Preview\n",
    "Your homework will include:\n",
    "1. List manipulation exercises\n",
    "2. Building a playlist manager\n",
    "3. Working with nested lists\n",
    "4. Text processing with lists\n",
    "\n",
    "### 🚀 Next Session Preview\n",
    "Tomorrow we'll learn about **Dictionaries** - a different way to store data using keys instead of positions!"
   ]
  },
  {
   "cell_type": "markdown",
   "id": "final_challenge",
   "metadata": {},
   "source": [
    "## 🎯 Final Challenge: Playlist Creator\n",
    "Create a music playlist manager that can add songs, remove songs, and play them in different orders:"
   ]
  },
  {
   "cell_type": "code",
   "execution_count": null,
   "id": "playlist_challenge",
   "metadata": {},
   "outputs": [],
   "source": [
    "# Final Challenge: Music Playlist Manager\n",
    "# Create a program that:\n",
    "# 1. Starts with an empty playlist\n",
    "# 2. Adds at least 5 songs\n",
    "# 3. Shows the current playlist with track numbers\n",
    "# 4. Shuffles the playlist (hint: use random.shuffle())\n",
    "# 5. Removes a song\n",
    "# 6. Shows final playlist\n",
    "\n",
    "import random  # For shuffling\n",
    "\n",
    "# Your playlist manager code here:\n",
    "\n"
   ]
  }
 ],
 "metadata": {
  "kernelspec": {
   "display_name": "Python 3",
   "language": "python",
   "name": "python3"
  },
  "language_info": {
   "codemirror_mode": {
    "name": "ipython",
    "version": 3
   },
   "file_extension": ".py",
   "mimetype": "text/x-python",
   "name": "python",
   "nbconvert_exporter": "python",
   "pygments_lexer": "ipython3",
   "version": "3.9.0"
  }
 },
 "nbformat": 4,
 "nbformat_minor": 5
}